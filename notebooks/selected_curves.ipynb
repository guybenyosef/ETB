{
 "cells": [
  {
   "cell_type": "code",
   "execution_count": null,
   "id": "f104908d",
   "metadata": {},
   "outputs": [
    {
     "name": "stdout",
     "output_type": "stream",
     "text": [
      "Elastica in TI: err:0.000428 c:-0.000015 phi:0.000098 g0:0.000103 l=2.721801\n",
      "Elastica in TI: err:0.002542 c:0.158646 phi:-1.653045 g0:0.758771 l=2.672377\n"
     ]
    },
    {
     "name": "stderr",
     "output_type": "stream",
     "text": [
      "/Users/gby-pro/code/ETB/src/elastica.py:39: RuntimeWarning: overflow encountered in scalar power\n",
      "  prev_dddtheta = ((k**2)/hbars - 2*k**4 - 3*k**6 + ddtheta[p-1]**2 +\n",
      "/Users/gby-pro/code/ETB/src/elastica.py:39: RuntimeWarning: invalid value encountered in scalar add\n",
      "  prev_dddtheta = ((k**2)/hbars - 2*k**4 - 3*k**6 + ddtheta[p-1]**2 +\n",
      "/Users/gby-pro/code/ETB/src/elastica.py:40: RuntimeWarning: overflow encountered in scalar power\n",
      "  7*hbars*ddtheta[p-1]**2*k**2) / (2*k*(1+hbars*k**2)) - \\\n",
      "/Users/gby-pro/code/ETB/src/elastica.py:41: RuntimeWarning: overflow encountered in scalar power\n",
      "  (c*np.sin(theta[p-1]+phi)*(1+hbars*k**2)**3) / (2*hbars*k)\n",
      "/Users/gby-pro/code/ETB/src/elastica.py:39: RuntimeWarning: invalid value encountered in scalar subtract\n",
      "  prev_dddtheta = ((k**2)/hbars - 2*k**4 - 3*k**6 + ddtheta[p-1]**2 +\n"
     ]
    },
    {
     "name": "stdout",
     "output_type": "stream",
     "text": [
      "Elastica in TI: err:0.000952 c:0.234266 phi:-1.561727 g0:2.159165 l=2.638506\n",
      "Elastica in TI: err:0.002984 c:0.268241 phi:-1.614543 g0:4.686041 l=2.617727\n",
      "Elastica in TI: err:0.001495 c:0.283089 phi:1.545404 g0:-0.402576 l=2.803491\n",
      "Elastica in TI: err:0.001568 c:-0.534054 phi:-1.574522 g0:-0.596931 l=2.886966\n"
     ]
    }
   ],
   "source": [
    "import numpy as np\n",
    "import matplotlib.pyplot as plt\n",
    "\n",
    "# add parent directory to path\n",
    "import sys\n",
    "import os\n",
    "sys.path.append(os.path.abspath('..'))\n",
    "\n",
    "from src.elastica import elastica_in_TI\n",
    "from src.visualization.drawing import build_circle\n",
    "from src.visualization.plotting import plot_curves\n",
    "\n",
    "# Parameters for a circle of R=sqrt(3)\n",
    "dx = 1.2247\n",
    "R = np.sqrt(3)\n",
    "tl, x, y, theta, dtheta, ddtheta, err = elastica_in_TI(-dx, 0, 45, -1/R, dx, 0, -45, -1/R, 0.001, [0, 0, 0, np.sqrt(3)*np.pi/2], 1)\n",
    "\n",
    "# Increasing and decreasing boundary curvature\n",
    "a_values = [0.3, 0.6, 0.9, -0.3, -0.5]\n",
    "params = [\n",
    "    [0.15, -1.61, 0.75, 3.0244387],\n",
    "    [0.28, -1.35, 2.26, 2.64],\n",
    "    [0.25, -1.55, 4.9, 2.6],\n",
    "    [0.27, 1.37, -0.4, 2.77],\n",
    "    [-0.53, -1.56, -0.599, 2.88]\n",
    "]\n",
    "\n",
    "ETB_results = dict()\n",
    "for ii, (a, param) in enumerate(zip(a_values, params)):\n",
    "    inducers = {\n",
    "        'left': [-dx, 0, 45, -1/R-a],\n",
    "        'right': [dx, 0, -45, -1/R-a],\n",
    "    }\n",
    "    tl, x, y, theta, dtheta, ddtheta, err = elastica_in_TI(-dx, 0, 45, -1/R-a, dx, 0, -45, -1/R-a, 0.001, param, 1)\n",
    "    completion = {\n",
    "        'tl': tl,\n",
    "        'x': x,\n",
    "        'y': y,\n",
    "        'theta': theta,\n",
    "        'dtheta': dtheta,\n",
    "        'ddtheta': ddtheta,\n",
    "        'err': err\n",
    "    }\n",
    "    ETB_results[f\"curve_{ii}\"] = {\"inducers\": inducers, \"completion\": completion, \"opt\": param}\n"
   ]
  }
 ],
 "metadata": {
  "kernelspec": {
   "display_name": "general",
   "language": "python",
   "name": "python3"
  },
  "language_info": {
   "codemirror_mode": {
    "name": "ipython",
    "version": 3
   },
   "file_extension": ".py",
   "mimetype": "text/x-python",
   "name": "python",
   "nbconvert_exporter": "python",
   "pygments_lexer": "ipython3",
   "version": "3.12.7"
  }
 },
 "nbformat": 4,
 "nbformat_minor": 5
}
